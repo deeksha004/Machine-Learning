{
 "cells": [
  {
   "cell_type": "code",
   "execution_count": 1,
   "metadata": {
    "_cell_guid": "b1076dfc-b9ad-4769-8c92-a6c4dae69d19",
    "_uuid": "8f2839f25d086af736a60e9eeb907d3b93b6e0e5"
   },
   "outputs": [
    {
     "name": "stdout",
     "output_type": "stream",
     "text": [
      "['sample_submission.csv', 'test.csv', 'train.csv']\n"
     ]
    }
   ],
   "source": [
    "# This Python 3 environment comes with many helpful analytics libraries installed\n",
    "# It is defined by the kaggle/python docker image: https://github.com/kaggle/docker-python\n",
    "# For example, here's several helpful packages to load in \n",
    "\n",
    "import numpy as np # linear algebra\n",
    "import pandas as pd # data processing, CSV file I/O (e.g. pd.read_csv)\n",
    "import seaborn as sns\n",
    "import matplotlib.pyplot as plt\n",
    "\n",
    "# Input data files are available in the \"../input/\" directory.\n",
    "# For example, running this (by clicking run or pressing Shift+Enter) will list the files in the input directory\n",
    "\n",
    "import os\n",
    "print(os.listdir(\"../input/hackerearth/dataset\"))\n",
    "\n",
    "# Any results you write to the current directory are saved as output."
   ]
  },
  {
   "cell_type": "code",
   "execution_count": 2,
   "metadata": {
    "_cell_guid": "79c7e3d0-c299-4dcb-8224-4455121ee9b0",
    "_uuid": "d629ff2d2480ee46fbb7e2d37f6b5fab8052498a"
   },
   "outputs": [
    {
     "name": "stderr",
     "output_type": "stream",
     "text": [
      "/opt/conda/lib/python3.6/site-packages/IPython/core/interactiveshell.py:2785: DtypeWarning: Columns (26) have mixed types. Specify dtype option on import or set low_memory=False.\n",
      "  interactivity=interactivity, compiler=compiler, result=result)\n"
     ]
    }
   ],
   "source": [
    "train = pd.read_csv('../input/hackerearth/dataset/train.csv')\n",
    "test = pd.read_csv('../input/hackerearth/dataset/test.csv')\n",
    "sub = pd.read_csv('../input/hackerearth/dataset/sample_submission.csv')"
   ]
  },
  {
   "cell_type": "code",
   "execution_count": 3,
   "metadata": {},
   "outputs": [
    {
     "name": "stdout",
     "output_type": "stream",
     "text": [
      "Shape of Train : (418067, 28)\n",
      "Shape of Test : (104516, 27)\n",
      "Shape of submission : (9, 2)\n"
     ]
    }
   ],
   "source": [
    "# getting the shapes of the datasets\n",
    "print(\"Shape of Train :\", train.shape)\n",
    "print(\"Shape of Test :\", test.shape)\n",
    "print(\"Shape of submission :\", sub.shape)"
   ]
  },
  {
   "cell_type": "code",
   "execution_count": 4,
   "metadata": {},
   "outputs": [
    {
     "name": "stderr",
     "output_type": "stream",
     "text": [
      "/opt/conda/lib/python3.6/site-packages/ipykernel_launcher.py:3: FutureWarning: Sorting because non-concatenation axis is not aligned. A future version\n",
      "of pandas will change to not sort by default.\n",
      "\n",
      "To accept the future behavior, pass 'sort=False'.\n",
      "\n",
      "To retain the current behavior and silence the warning, pass 'sort=True'.\n",
      "\n",
      "  This is separate from the ipykernel package so we can avoid doing imports until\n"
     ]
    }
   ],
   "source": [
    "Case_no_train = train['CASE_NO']\n",
    "Case_no_test = test['CASE_NO']\n",
    "data = pd.concat([train, test], axis = 0, ignore_index=True)"
   ]
  },
  {
   "cell_type": "code",
   "execution_count": 5,
   "metadata": {},
   "outputs": [],
   "source": [
    "def display_all(df):\n",
    "    with pd.option_context(\"display.max_rows\", 1000, \"display.max_columns\", 1000): \n",
    "        display(df)"
   ]
  },
  {
   "cell_type": "code",
   "execution_count": 6,
   "metadata": {},
   "outputs": [
    {
     "data": {
      "text/plain": [
       "array(['CERTIFIEDWITHDRAWN', 'WITHDRAWN', 'CERTIFIED', 'DENIED'],\n",
       "      dtype=object)"
      ]
     },
     "execution_count": 6,
     "metadata": {},
     "output_type": "execute_result"
    }
   ],
   "source": [
    "train['CASE_STATUS'].unique()"
   ]
  },
  {
   "cell_type": "code",
   "execution_count": 7,
   "metadata": {},
   "outputs": [
    {
     "data": {
      "image/png": "[encoded data removed]",
      "text/plain": [
       "<Figure size 432x288 with 1 Axes>"
      ]
     },
     "metadata": {},
     "output_type": "display_data"
    }
   ],
   "source": [
    "g = sns.countplot(y=train['CASE_STATUS'], order=[\n",
    "    'CERTIFIED', 'CERTIFIEDWITHDRAWN', 'WITHDRAWN', 'DENIED'])\n",
    "g.set_ylabel('Case Status')\n",
    "g.set_title('Distribution of Target variable classes')\n",
    "plt.show()"
   ]
  },
  {
   "cell_type": "code",
   "execution_count": 8,
   "metadata": {},
   "outputs": [
    {
     "data": {
      "image/png": "[encoded data removed]",
      "text/plain": [
       "<Figure size 432x288 with 1 Axes>"
      ]
     },
     "metadata": {},
     "output_type": "display_data"
    }
   ],
   "source": [
    "labels = ['CERTIFIED', 'CERTIFIEDWITHDRAWN', 'WITHDRAWN', 'DENIED']\n",
    "sizes=[data['CASE_STATUS'].value_counts()[0], data['CASE_STATUS'].value_counts()[1], data['CASE_STATUS'].value_counts()[2], data['CASE_STATUS'].value_counts()[3]]\n",
    "fig1, ax1 = plt.subplots()\n",
    "ax1.pie(sizes, labels=labels, autopct='%1.1f%%', shadow=True)\n",
    "ax1.axis('equal')\n",
    "plt.show()"
   ]
  },
  {
   "cell_type": "code",
   "execution_count": 9,
   "metadata": {},
   "outputs": [
    {
     "data": {
      "text/html": [
       "<div>\n",
       "<style scoped>\n",
       "    .dataframe tbody tr th:only-of-type {\n",
       "        vertical-align: middle;\n",
       "    }\n",
       "\n",
       "    .dataframe tbody tr th {\n",
       "        vertical-align: top;\n",
       "    }\n",
       "\n",
       "    .dataframe thead th {\n",
       "        text-align: right;\n",
       "    }\n",
       "</style>\n",
       "<table border=\"1\" class=\"dataframe\">\n",
       "  <thead>\n",
       "    <tr style=\"text-align: right;\">\n",
       "      <th></th>\n",
       "      <th>CASE_NO</th>\n",
       "      <th>CASE_SUBMITTED_DAY</th>\n",
       "      <th>CASE_SUBMITTED_MONTH</th>\n",
       "      <th>CASE_SUBMITTED_YEAR</th>\n",
       "      <th>DECISION_DAY</th>\n",
       "      <th>DECISION_MONTH</th>\n",
       "      <th>DECISION_YEAR</th>\n",
       "      <th>NAICS_CODE</th>\n",
       "      <th>TOTAL_WORKERS</th>\n",
       "      <th>PREVAILING_WAGE</th>\n",
       "      <th>PW_SOURCE_YEAR</th>\n",
       "      <th>WAGE_RATE_OF_PAY_FROM</th>\n",
       "      <th>WAGE_RATE_OF_PAY_TO</th>\n",
       "    </tr>\n",
       "  </thead>\n",
       "  <tbody>\n",
       "    <tr>\n",
       "      <th>count</th>\n",
       "      <td>4.180670e+05</td>\n",
       "      <td>414068.000000</td>\n",
       "      <td>418067.000000</td>\n",
       "      <td>418067.000000</td>\n",
       "      <td>418067.000000</td>\n",
       "      <td>418067.000000</td>\n",
       "      <td>418067.000000</td>\n",
       "      <td>414068.000000</td>\n",
       "      <td>418067.000000</td>\n",
       "      <td>414068.000000</td>\n",
       "      <td>418065.000000</td>\n",
       "      <td>4.180670e+05</td>\n",
       "      <td>4.180670e+05</td>\n",
       "    </tr>\n",
       "    <tr>\n",
       "      <th>mean</th>\n",
       "      <td>5.497963e+06</td>\n",
       "      <td>15.317462</td>\n",
       "      <td>4.381781</td>\n",
       "      <td>2016.691155</td>\n",
       "      <td>16.567713</td>\n",
       "      <td>4.485133</td>\n",
       "      <td>2016.783303</td>\n",
       "      <td>442264.396227</td>\n",
       "      <td>1.936075</td>\n",
       "      <td>70746.585526</td>\n",
       "      <td>2016.041977</td>\n",
       "      <td>8.048788e+04</td>\n",
       "      <td>2.375929e+04</td>\n",
       "    </tr>\n",
       "    <tr>\n",
       "      <th>std</th>\n",
       "      <td>2.596205e+06</td>\n",
       "      <td>8.106625</td>\n",
       "      <td>3.534558</td>\n",
       "      <td>0.570987</td>\n",
       "      <td>8.491076</td>\n",
       "      <td>3.534325</td>\n",
       "      <td>0.411995</td>\n",
       "      <td>198109.240571</td>\n",
       "      <td>5.190448</td>\n",
       "      <td>31369.546393</td>\n",
       "      <td>3.163978</td>\n",
       "      <td>4.143085e+04</td>\n",
       "      <td>5.157029e+04</td>\n",
       "    </tr>\n",
       "    <tr>\n",
       "      <th>min</th>\n",
       "      <td>1.000006e+06</td>\n",
       "      <td>1.000000</td>\n",
       "      <td>1.000000</td>\n",
       "      <td>2011.000000</td>\n",
       "      <td>1.000000</td>\n",
       "      <td>1.000000</td>\n",
       "      <td>2016.000000</td>\n",
       "      <td>31.000000</td>\n",
       "      <td>0.000000</td>\n",
       "      <td>0.000000</td>\n",
       "      <td>1.000000</td>\n",
       "      <td>7.260000e+00</td>\n",
       "      <td>0.000000e+00</td>\n",
       "    </tr>\n",
       "    <tr>\n",
       "      <th>25%</th>\n",
       "      <td>3.253296e+06</td>\n",
       "      <td>9.000000</td>\n",
       "      <td>2.000000</td>\n",
       "      <td>2016.000000</td>\n",
       "      <td>9.000000</td>\n",
       "      <td>3.000000</td>\n",
       "      <td>2017.000000</td>\n",
       "      <td>452111.000000</td>\n",
       "      <td>1.000000</td>\n",
       "      <td>55744.000000</td>\n",
       "      <td>2016.000000</td>\n",
       "      <td>6.140200e+04</td>\n",
       "      <td>0.000000e+00</td>\n",
       "    </tr>\n",
       "    <tr>\n",
       "      <th>50%</th>\n",
       "      <td>5.495191e+06</td>\n",
       "      <td>15.000000</td>\n",
       "      <td>3.000000</td>\n",
       "      <td>2017.000000</td>\n",
       "      <td>17.000000</td>\n",
       "      <td>3.000000</td>\n",
       "      <td>2017.000000</td>\n",
       "      <td>541511.000000</td>\n",
       "      <td>1.000000</td>\n",
       "      <td>67891.000000</td>\n",
       "      <td>2016.000000</td>\n",
       "      <td>7.388200e+04</td>\n",
       "      <td>0.000000e+00</td>\n",
       "    </tr>\n",
       "    <tr>\n",
       "      <th>75%</th>\n",
       "      <td>7.750158e+06</td>\n",
       "      <td>22.000000</td>\n",
       "      <td>3.000000</td>\n",
       "      <td>2017.000000</td>\n",
       "      <td>23.000000</td>\n",
       "      <td>4.000000</td>\n",
       "      <td>2017.000000</td>\n",
       "      <td>541511.000000</td>\n",
       "      <td>1.000000</td>\n",
       "      <td>85500.000000</td>\n",
       "      <td>2016.000000</td>\n",
       "      <td>9.563050e+04</td>\n",
       "      <td>0.000000e+00</td>\n",
       "    </tr>\n",
       "    <tr>\n",
       "      <th>max</th>\n",
       "      <td>9.999999e+06</td>\n",
       "      <td>31.000000</td>\n",
       "      <td>12.000000</td>\n",
       "      <td>2017.000000</td>\n",
       "      <td>31.000000</td>\n",
       "      <td>12.000000</td>\n",
       "      <td>2017.000000</td>\n",
       "      <td>999990.000000</td>\n",
       "      <td>150.000000</td>\n",
       "      <td>414007.000000</td>\n",
       "      <td>2017.000000</td>\n",
       "      <td>1.350000e+06</td>\n",
       "      <td>1.540000e+06</td>\n",
       "    </tr>\n",
       "  </tbody>\n",
       "</table>\n",
       "</div>"
      ],
      "text/plain": [
       "            CASE_NO         ...           WAGE_RATE_OF_PAY_TO\n",
       "count  4.180670e+05         ...                  4.180670e+05\n",
       "mean   5.497963e+06         ...                  2.375929e+04\n",
       "std    2.596205e+06         ...                  5.157029e+04\n",
       "min    1.000006e+06         ...                  0.000000e+00\n",
       "25%    3.253296e+06         ...                  0.000000e+00\n",
       "50%    5.495191e+06         ...                  0.000000e+00\n",
       "75%    7.750158e+06         ...                  0.000000e+00\n",
       "max    9.999999e+06         ...                  1.540000e+06\n",
       "\n",
       "[8 rows x 13 columns]"
      ]
     },
     "execution_count": 9,
     "metadata": {},
     "output_type": "execute_result"
    }
   ],
   "source": [
    "train.describe()"
   ]
  },
  {
   "cell_type": "markdown",
   "metadata": {},
   "source": [
    "Displaying the percentage of missing values in each column"
   ]
  },
  {
   "cell_type": "code",
   "execution_count": 10,
   "metadata": {},
   "outputs": [
    {
     "data": {
      "text/plain": [
       "CASE_NO                  0.000000\n",
       "CASE_STATUS              0.199999\n",
       "CASE_SUBMITTED_DAY       0.007652\n",
       "CASE_SUBMITTED_MONTH     0.000000\n",
       "CASE_SUBMITTED_YEAR      0.000000\n",
       "DECISION_DAY             0.000000\n",
       "DECISION_MONTH           0.000000\n",
       "DECISION_YEAR            0.000000\n",
       "EMPLOYER_COUNTRY         0.000000\n",
       "EMPLOYER_NAME            0.000071\n",
       "EMPLOYER_STATE           0.000019\n",
       "FULL_TIME_POSITION       0.000002\n",
       "H+AC0-1B_DEPENDENT       0.806789\n",
       "H-1B_DEPENDENT           0.212119\n",
       "NAICS_CODE               0.007652\n",
       "PREVAILING_WAGE          0.007652\n",
       "PW_SOURCE                0.000019\n",
       "PW_SOURCE_OTHER          0.000000\n",
       "PW_SOURCE_YEAR           0.000017\n",
       "PW_UNIT_OF_PAY           0.000017\n",
       "SOC_NAME                 0.000000\n",
       "TOTAL_WORKERS            0.000000\n",
       "VISA_CLASS               0.000000\n",
       "WAGE_RATE_OF_PAY_FROM    0.000000\n",
       "WAGE_RATE_OF_PAY_TO      0.000000\n",
       "WAGE_UNIT_OF_PAY         0.000004\n",
       "WILLFUL_VIOLATOR         0.018910\n",
       "WORKSITE_POSTAL_CODE     0.000000\n",
       "WORKSITE_STATE           0.000000\n",
       "dtype: float64"
      ]
     },
     "metadata": {},
     "output_type": "display_data"
    }
   ],
   "source": [
    "display_all(data.isnull().sum().sort_index()/len(data))"
   ]
  },
  {
   "cell_type": "code",
   "execution_count": 11,
   "metadata": {},
   "outputs": [
    {
     "data": {
      "text/plain": [
       "CASE_NO                       0\n",
       "CASE_STATUS              104516\n",
       "CASE_SUBMITTED_DAY         3999\n",
       "CASE_SUBMITTED_MONTH          0\n",
       "CASE_SUBMITTED_YEAR           0\n",
       "DECISION_DAY                  0\n",
       "DECISION_MONTH                0\n",
       "DECISION_YEAR                 0\n",
       "EMPLOYER_COUNTRY              0\n",
       "EMPLOYER_NAME                37\n",
       "EMPLOYER_STATE               10\n",
       "FULL_TIME_POSITION            1\n",
       "H+AC0-1B_DEPENDENT       421614\n",
       "H-1B_DEPENDENT           110850\n",
       "NAICS_CODE                 3999\n",
       "PREVAILING_WAGE            3999\n",
       "PW_SOURCE                    10\n",
       "PW_SOURCE_OTHER               0\n",
       "PW_SOURCE_YEAR                9\n",
       "PW_UNIT_OF_PAY                9\n",
       "SOC_NAME                      0\n",
       "TOTAL_WORKERS                 0\n",
       "VISA_CLASS                    0\n",
       "WAGE_RATE_OF_PAY_FROM         0\n",
       "WAGE_RATE_OF_PAY_TO           0\n",
       "WAGE_UNIT_OF_PAY              2\n",
       "WILLFUL_VIOLATOR           9882\n",
       "WORKSITE_POSTAL_CODE          0\n",
       "WORKSITE_STATE                0\n",
       "dtype: int64"
      ]
     },
     "execution_count": 11,
     "metadata": {},
     "output_type": "execute_result"
    }
   ],
   "source": [
    "data.isna().sum()"
   ]
  },
  {
   "cell_type": "markdown",
   "metadata": {},
   "source": [
    "Removing the \"H+AC0-1B_DEPENDENT\" feature as it contains more than 80% of missing values, creating a new feature \"H+AC0-1B_DEPENDENT_missing_flag\"(1 = is missing, 0 = not missing)"
   ]
  },
  {
   "cell_type": "code",
   "execution_count": 12,
   "metadata": {},
   "outputs": [
    {
     "name": "stderr",
     "output_type": "stream",
     "text": [
      "/opt/conda/lib/python3.6/site-packages/ipykernel_launcher.py:3: SettingWithCopyWarning: \n",
      "A value is trying to be set on a copy of a slice from a DataFrame\n",
      "\n",
      "See the caveats in the documentation: http://pandas.pydata.org/pandas-docs/stable/indexing.html#indexing-view-versus-copy\n",
      "  This is separate from the ipykernel package so we can avoid doing imports until\n"
     ]
    }
   ],
   "source": [
    "data['H+AC0-1B_DEPENDENT_missing_flag']=0\n",
    "data['H+AC0-1B_DEPENDENT'].fillna(1, inplace=True)\n",
    "data['H+AC0-1B_DEPENDENT_missing_flag'][data['H+AC0-1B_DEPENDENT']==1]=1\n",
    "data.drop('H+AC0-1B_DEPENDENT', inplace=True, axis=1)"
   ]
  },
  {
   "cell_type": "markdown",
   "metadata": {},
   "source": [
    "Filling the Missing values of categorical variables with Mode(most occuring value)."
   ]
  },
  {
   "cell_type": "code",
   "execution_count": 13,
   "metadata": {},
   "outputs": [],
   "source": [
    "data['FULL_TIME_POSITION'].fillna(data['FULL_TIME_POSITION'].mode()[0], inplace=True)\n",
    "data['EMPLOYER_NAME'].fillna(data['EMPLOYER_NAME'].mode()[0], inplace=True)\n",
    "data['EMPLOYER_STATE'].fillna(data['EMPLOYER_STATE'].mode()[0], inplace=True)\n",
    "data['CASE_SUBMITTED_DAY'].fillna(data['CASE_SUBMITTED_DAY'].mode()[0], inplace=True)\n",
    "data['PW_SOURCE'].fillna(data['PW_SOURCE'].mode()[0], inplace=True)\n",
    "data['PW_SOURCE_YEAR'].fillna(data['PW_SOURCE_YEAR'].mode()[0], inplace=True)\n",
    "data['PW_UNIT_OF_PAY'].fillna(data['PW_UNIT_OF_PAY'].mode()[0], inplace=True)\n",
    "data['WAGE_UNIT_OF_PAY'].fillna(data['WAGE_UNIT_OF_PAY'].mode()[0], inplace=True)\n"
   ]
  },
  {
   "cell_type": "markdown",
   "metadata": {},
   "source": []
  },
  {
   "cell_type": "code",
   "execution_count": 14,
   "metadata": {},
   "outputs": [
    {
     "data": {
      "image/png": "[encoded data removed]",
      "text/plain": [
       "<Figure size 432x288 with 1 Axes>"
      ]
     },
     "metadata": {},
     "output_type": "display_data"
    }
   ],
   "source": [
    "labels = ['Y', 'N']\n",
    "sizes=[data['WILLFUL_VIOLATOR'].value_counts()[1], data['WILLFUL_VIOLATOR'].value_counts()[0]]\n",
    "fig1, ax1 = plt.subplots()\n",
    "ax1.pie(sizes, labels=labels, autopct='%1.1f%%', shadow=True)\n",
    "ax1.axis('equal')\n",
    "plt.show()"
   ]
  },
  {
   "cell_type": "markdown",
   "metadata": {},
   "source": [
    "As there is highly imbalanced class here, it is better to drop this variable as it will make the model more bias towards the majority class. "
   ]
  },
  {
   "cell_type": "code",
   "execution_count": 15,
   "metadata": {},
   "outputs": [],
   "source": [
    "data.drop('WILLFUL_VIOLATOR', axis=1, inplace=True)"
   ]
  },
  {
   "cell_type": "code",
   "execution_count": 16,
   "metadata": {},
   "outputs": [
    {
     "name": "stderr",
     "output_type": "stream",
     "text": [
      "/opt/conda/lib/python3.6/site-packages/numpy/lib/histograms.py:824: RuntimeWarning: invalid value encountered in greater_equal\n",
      "  keep = (tmp_a >= first_edge)\n",
      "/opt/conda/lib/python3.6/site-packages/numpy/lib/histograms.py:825: RuntimeWarning: invalid value encountered in less_equal\n",
      "  keep &= (tmp_a <= last_edge)\n",
      "/opt/conda/lib/python3.6/site-packages/statsmodels/nonparametric/kde.py:448: RuntimeWarning: invalid value encountered in greater\n",
      "  X = X[np.logical_and(X > clip[0], X < clip[1])] # won't work for two columns.\n",
      "/opt/conda/lib/python3.6/site-packages/statsmodels/nonparametric/kde.py:448: RuntimeWarning: invalid value encountered in less\n",
      "  X = X[np.logical_and(X > clip[0], X < clip[1])] # won't work for two columns.\n",
      "/opt/conda/lib/python3.6/site-packages/scipy/stats/stats.py:1713: FutureWarning: Using a non-tuple sequence for multidimensional indexing is deprecated; use `arr[tuple(seq)]` instead of `arr[seq]`. In the future this will be interpreted as an array index, `arr[np.array(seq)]`, which will result either in an error or a different result.\n",
      "  return np.add.reduce(sorted[indexer] * weights, axis=axis) / sumval\n"
     ]
    },
    {
     "data": {
      "text/plain": [
       "<matplotlib.axes._subplots.AxesSubplot at 0x7f291cd94940>"
      ]
     },
     "execution_count": 16,
     "metadata": {},
     "output_type": "execute_result"
    },
    {
     "data": {
      "image/png": "[encoded data removed]",
      "text/plain": [
       "<Figure size 432x288 with 1 Axes>"
      ]
     },
     "metadata": {},
     "output_type": "display_data"
    }
   ],
   "source": [
    "import seaborn as sns\n",
    "sns.distplot(data['PREVAILING_WAGE'], bins=20, kde=True)"
   ]
  },
  {
   "cell_type": "markdown",
   "metadata": {},
   "source": [
    "Most of the petitions have a wage in the range between 40k and 80k US Dollars. There are certain petitions with wages of more than $200k, and some with 0 dollars. Since there are very few such cases, they should be treated as outliers by capping them at the 2nd and 98th percentile"
   ]
  },
  {
   "cell_type": "code",
   "execution_count": 17,
   "metadata": {},
   "outputs": [
    {
     "data": {
      "text/plain": [
       "count    518584.000000\n",
       "mean      71185.049054\n",
       "std       30004.704009\n",
       "min          26.380000\n",
       "25%       55910.000000\n",
       "50%       68827.000000\n",
       "75%       87194.000000\n",
       "max      147222.000000\n",
       "Name: PREVAILING_WAGE, dtype: float64"
      ]
     },
     "execution_count": 17,
     "metadata": {},
     "output_type": "execute_result"
    }
   ],
   "source": [
    "#Removing Outliers by 2nd and 98th quartile value\n",
    "data.loc[data.PREVAILING_WAGE < 26.38, 'PREVAILING_WAGE']= 26.38\n",
    "data.loc[data['PREVAILING_WAGE'] > 147222, 'PREVAILING_WAGE']= 147222\n",
    "data['PREVAILING_WAGE'].describe()"
   ]
  },
  {
   "cell_type": "markdown",
   "metadata": {},
   "source": [
    "Grouping the Prevaling_Wage according to PW_UNIT_OF_PAY and calculating mean and median of each group."
   ]
  },
  {
   "cell_type": "code",
   "execution_count": 18,
   "metadata": {},
   "outputs": [],
   "source": [
    "df = data.groupby('PW_UNIT_OF_PAY')['PREVAILING_WAGE'].median()\n",
    "df_mean= data.groupby('PW_UNIT_OF_PAY')['PREVAILING_WAGE'].mean()"
   ]
  },
  {
   "cell_type": "code",
   "execution_count": 19,
   "metadata": {},
   "outputs": [],
   "source": [
    "data['PREVAILING_WAGE'].fillna('nan', inplace=True)"
   ]
  },
  {
   "cell_type": "markdown",
   "metadata": {},
   "source": [
    "Filling the missing values with the above calculated median according to PW_UNIT_OF_PAY i.e hour, week, month and year."
   ]
  },
  {
   "cell_type": "code",
   "execution_count": 20,
   "metadata": {},
   "outputs": [],
   "source": [
    "data.loc[(data.PREVAILING_WAGE =='nan') & (data.PW_UNIT_OF_PAY == 'Hour'), 'PREVAILING_WAGE']=df.Hour\n",
    "data.loc[(data.PREVAILING_WAGE =='nan') & (data.PW_UNIT_OF_PAY == 'Month'), 'PREVAILING_WAGE']=df.Month\n",
    "data.loc[(data.PREVAILING_WAGE =='nan') & (data.PW_UNIT_OF_PAY == 'Year'), 'PREVAILING_WAGE']=df.Year\n",
    "data.loc[(data.PREVAILING_WAGE =='nan') & (data.PW_UNIT_OF_PAY == 'Week'), 'PREVAILING_WAGE']=df.Week\n",
    "data.loc[(data.PREVAILING_WAGE =='nan') & (data.PW_UNIT_OF_PAY == 'Bi+AC0-Weekly'), 'PREVAILING_WAGE']=2436.00\n",
    "data['PREVAILING_WAGE']=data['PREVAILING_WAGE'].astype(float)"
   ]
  },
  {
   "cell_type": "code",
   "execution_count": 21,
   "metadata": {},
   "outputs": [
    {
     "name": "stderr",
     "output_type": "stream",
     "text": [
      "/opt/conda/lib/python3.6/site-packages/seaborn/axisgrid.py:230: UserWarning: The `size` paramter has been renamed to `height`; please update your code.\n",
      "  warnings.warn(msg, UserWarning)\n"
     ]
    },
    {
     "data": {
      "image/png": "[encoded data removed]",
      "text/plain": [
       "<Figure size 296x1152 with 4 Axes>"
      ]
     },
     "metadata": {},
     "output_type": "display_data"
    }
   ],
   "source": [
    "g = sns.FacetGrid(data, row='CASE_STATUS', size=4)\n",
    "g.map(plt.hist, 'PREVAILING_WAGE', alpha=0.5, bins=15)\n",
    "g.add_legend()\n",
    "plt.show()"
   ]
  },
  {
   "cell_type": "markdown",
   "metadata": {},
   "source": [
    "Dropping the rows in which NAICS_CODE is null"
   ]
  },
  {
   "cell_type": "code",
   "execution_count": 22,
   "metadata": {},
   "outputs": [
    {
     "name": "stdout",
     "output_type": "stream",
     "text": [
      "(518584, 28)\n"
     ]
    }
   ],
   "source": [
    "data.dropna(subset=['NAICS_CODE'], inplace=True)\n",
    "print(data.shape)"
   ]
  },
  {
   "cell_type": "markdown",
   "metadata": {},
   "source": [
    "As H-1B_DEPENDENT feature is dependent on many factors, therefore assigning the null values as a new category to prevent any ambuiguity"
   ]
  },
  {
   "cell_type": "code",
   "execution_count": 23,
   "metadata": {},
   "outputs": [],
   "source": [
    "data['H-1B_DEPENDENT'].fillna(\"Not Specified\", inplace=True)"
   ]
  },
  {
   "cell_type": "code",
   "execution_count": 24,
   "metadata": {},
   "outputs": [
    {
     "data": {
      "text/plain": [
       "N                257010\n",
       "Y                150869\n",
       "Not Specified    110705\n",
       "Name: H-1B_DEPENDENT, dtype: int64"
      ]
     },
     "execution_count": 24,
     "metadata": {},
     "output_type": "execute_result"
    }
   ],
   "source": [
    "data['H-1B_DEPENDENT'].value_counts()"
   ]
  },
  {
   "cell_type": "code",
   "execution_count": 25,
   "metadata": {},
   "outputs": [],
   "source": [
    "def unique_info(columns):\n",
    "    for i in columns:\n",
    "        print(\"Unique info for feature {}: \".format(i))\n",
    "        print(data[i].nunique())\n",
    "        print(data[i].unique())\n",
    "        print(\"\\n\")"
   ]
  },
  {
   "cell_type": "markdown",
   "metadata": {},
   "source": [
    "A new feature called NEW_EMPLOYER is created: If the employer name contains the string 'University', for instance if a US university is filing a visa petition, then it has more chances of approval for the employee. Dropping the feature EMPLOYER_NAME as it has too many categories."
   ]
  },
  {
   "cell_type": "code",
   "execution_count": 26,
   "metadata": {},
   "outputs": [
    {
     "name": "stderr",
     "output_type": "stream",
     "text": [
      "/opt/conda/lib/python3.6/site-packages/ipykernel_launcher.py:4: SettingWithCopyWarning: \n",
      "A value is trying to be set on a copy of a slice from a DataFrame\n",
      "\n",
      "See the caveats in the documentation: http://pandas.pydata.org/pandas-docs/stable/indexing.html#indexing-view-versus-copy\n",
      "  after removing the cwd from sys.path.\n"
     ]
    }
   ],
   "source": [
    "# flag =1 is a university, 0= non university\n",
    "data['NEW_EMPLOYER'] = np.nan\n",
    "data['EMPLOYER_NAME'] = data['EMPLOYER_NAME'].str.lower()\n",
    "data.NEW_EMPLOYER[data['EMPLOYER_NAME'].str.contains('university')] = 1\n",
    "data['NEW_EMPLOYER']= data.NEW_EMPLOYER.replace(np.nan, 0, regex=True)\n",
    "data.drop('EMPLOYER_NAME', axis=1, inplace=True)"
   ]
  },
  {
   "cell_type": "markdown",
   "metadata": {},
   "source": [
    "Converting the 'CASE_SUBMITTED_DAY', 'CASE_SUBMITTED_MONTH', 'CASE_SUBMITTED_YEAR', 'DECISION_MONTH', 'DECISION_YEAR', 'DECISION_DAY' to timestamp type so as to extract the time ellapsed between case submitted and decision day.  "
   ]
  },
  {
   "cell_type": "code",
   "execution_count": 27,
   "metadata": {},
   "outputs": [],
   "source": [
    "df_case_sub = pd.DataFrame({'year': data['CASE_SUBMITTED_YEAR'],\n",
    "                       'month': data['CASE_SUBMITTED_MONTH'],\n",
    "                       'day': data['CASE_SUBMITTED_DAY']})\n",
    "df_case_sub=pd.to_datetime(df_case_sub)\n",
    "df_desc_day = pd.DataFrame({'year': data['DECISION_YEAR'],\n",
    "                       'month': data['DECISION_MONTH'],\n",
    "                       'day': data['DECISION_DAY']})\n",
    "df_desc_day=pd.to_datetime(df_desc_day)\n"
   ]
  },
  {
   "cell_type": "code",
   "execution_count": 28,
   "metadata": {},
   "outputs": [
    {
     "data": {
      "text/plain": [
       "Index(['CASE_NO', 'CASE_STATUS', 'EMPLOYER_COUNTRY', 'EMPLOYER_STATE',\n",
       "       'FULL_TIME_POSITION', 'H-1B_DEPENDENT', 'NAICS_CODE', 'PREVAILING_WAGE',\n",
       "       'PW_SOURCE', 'PW_SOURCE_OTHER', 'PW_SOURCE_YEAR', 'PW_UNIT_OF_PAY',\n",
       "       'SOC_NAME', 'TOTAL_WORKERS', 'VISA_CLASS', 'WAGE_RATE_OF_PAY_FROM',\n",
       "       'WAGE_RATE_OF_PAY_TO', 'WAGE_UNIT_OF_PAY', 'WORKSITE_POSTAL_CODE',\n",
       "       'WORKSITE_STATE', 'H+AC0-1B_DEPENDENT_missing_flag', 'NEW_EMPLOYER',\n",
       "       'Case_sub_time', 'Desc_day_time'],\n",
       "      dtype='object')"
      ]
     },
     "execution_count": 28,
     "metadata": {},
     "output_type": "execute_result"
    }
   ],
   "source": [
    "data['Case_sub_time'] = df_case_sub\n",
    "data['Desc_day_time'] = df_desc_day\n",
    "data.drop(['DECISION_DAY', 'CASE_SUBMITTED_DAY', 'CASE_SUBMITTED_MONTH', 'CASE_SUBMITTED_YEAR', 'DECISION_MONTH', \n",
    "          'DECISION_YEAR'], axis=1, inplace=True)\n",
    "data.columns"
   ]
  },
  {
   "cell_type": "code",
   "execution_count": 29,
   "metadata": {},
   "outputs": [],
   "source": [
    "data['Time_Elapsed'] = data['Desc_day_time']-data['Case_sub_time']\n",
    "data['Time_Elapsed']=data['Time_Elapsed']/np.timedelta64(1,'D')"
   ]
  },
  {
   "cell_type": "code",
   "execution_count": 30,
   "metadata": {},
   "outputs": [
    {
     "name": "stderr",
     "output_type": "stream",
     "text": [
      "/opt/conda/lib/python3.6/site-packages/scipy/stats/stats.py:1713: FutureWarning: Using a non-tuple sequence for multidimensional indexing is deprecated; use `arr[tuple(seq)]` instead of `arr[seq]`. In the future this will be interpreted as an array index, `arr[np.array(seq)]`, which will result either in an error or a different result.\n",
      "  return np.add.reduce(sorted[indexer] * weights, axis=axis) / sumval\n"
     ]
    },
    {
     "data": {
      "text/plain": [
       "<matplotlib.axes._subplots.AxesSubplot at 0x7f291cadd208>"
      ]
     },
     "execution_count": 30,
     "metadata": {},
     "output_type": "execute_result"
    },
    {
     "data": {
      "image/png": "[encoded data removed]",
      "text/plain": [
       "<Figure size 432x288 with 1 Axes>"
      ]
     },
     "metadata": {},
     "output_type": "display_data"
    }
   ],
   "source": [
    "import seaborn as sns\n",
    "sns.distplot(data['Time_Elapsed'], bins=20, kde=True)"
   ]
  },
  {
   "cell_type": "markdown",
   "metadata": {},
   "source": [
    "Dropping the noisy features"
   ]
  },
  {
   "cell_type": "code",
   "execution_count": 31,
   "metadata": {},
   "outputs": [],
   "source": [
    "data.drop(['Case_sub_time', 'Desc_day_time', 'WORKSITE_POSTAL_CODE'], axis=1, inplace=True)"
   ]
  },
  {
   "cell_type": "code",
   "execution_count": 32,
   "metadata": {},
   "outputs": [
    {
     "name": "stderr",
     "output_type": "stream",
     "text": [
      "/opt/conda/lib/python3.6/site-packages/ipykernel_launcher.py:1: SettingWithCopyWarning: \n",
      "A value is trying to be set on a copy of a slice from a DataFrame\n",
      "\n",
      "See the caveats in the documentation: http://pandas.pydata.org/pandas-docs/stable/indexing.html#indexing-view-versus-copy\n",
      "  \"\"\"Entry point for launching an IPython kernel.\n"
     ]
    }
   ],
   "source": [
    "data['WAGE_UNIT_OF_PAY'][data['WAGE_UNIT_OF_PAY']=='Bi+AC0-Weekly']='Week'"
   ]
  },
  {
   "cell_type": "code",
   "execution_count": 33,
   "metadata": {},
   "outputs": [
    {
     "data": {
      "text/plain": [
       "CASE_NO                              int64\n",
       "CASE_STATUS                         object\n",
       "EMPLOYER_COUNTRY                    object\n",
       "EMPLOYER_STATE                      object\n",
       "FULL_TIME_POSITION                  object\n",
       "H-1B_DEPENDENT                      object\n",
       "NAICS_CODE                         float64\n",
       "PREVAILING_WAGE                    float64\n",
       "PW_SOURCE                           object\n",
       "PW_SOURCE_OTHER                     object\n",
       "PW_SOURCE_YEAR                     float64\n",
       "PW_UNIT_OF_PAY                      object\n",
       "SOC_NAME                            object\n",
       "TOTAL_WORKERS                        int64\n",
       "VISA_CLASS                          object\n",
       "WAGE_RATE_OF_PAY_FROM              float64\n",
       "WAGE_RATE_OF_PAY_TO                float64\n",
       "WAGE_UNIT_OF_PAY                    object\n",
       "WORKSITE_STATE                      object\n",
       "H+AC0-1B_DEPENDENT_missing_flag      int64\n",
       "NEW_EMPLOYER                       float64\n",
       "Time_Elapsed                       float64\n",
       "dtype: object"
      ]
     },
     "execution_count": 33,
     "metadata": {},
     "output_type": "execute_result"
    }
   ],
   "source": [
    "data.dtypes"
   ]
  },
  {
   "cell_type": "code",
   "execution_count": 34,
   "metadata": {},
   "outputs": [
    {
     "data": {
      "text/plain": [
       "count    5.185840e+05\n",
       "mean     5.769639e+04\n",
       "std      5.937693e+04\n",
       "min     -2.000000e+06\n",
       "25%      3.560000e+01\n",
       "50%      6.618600e+04\n",
       "75%      8.750000e+04\n",
       "max      1.350000e+06\n",
       "Name: WAGE_RATE_diff, dtype: float64"
      ]
     },
     "execution_count": 34,
     "metadata": {},
     "output_type": "execute_result"
    }
   ],
   "source": [
    "data['WAGE_RATE_diff']=data['WAGE_RATE_OF_PAY_FROM']-data['WAGE_RATE_OF_PAY_TO']\n",
    "data['WAGE_RATE_diff'].describe()"
   ]
  },
  {
   "cell_type": "code",
   "execution_count": 35,
   "metadata": {},
   "outputs": [
    {
     "data": {
      "text/plain": [
       "192"
      ]
     },
     "execution_count": 35,
     "metadata": {},
     "output_type": "execute_result"
    }
   ],
   "source": [
    "data['PW_SOURCE_OTHER'].nunique()"
   ]
  },
  {
   "cell_type": "markdown",
   "metadata": {},
   "source": [
    " For feature PW_SOURCE_OTHER there are 193 unique values which are grouped together in order to reduce the unique features. for example all strings containing 'CBA'or'COLLECTIVE BARGAINING AGREEMENT' are grouped as one category called 'CBA'. The categories which has value counts less than 50 are grouped under 'Other' category.\n",
    " Moreover, 'PW_Source' and PW_SOURCE_OTHER features are combined into one feature based on 'Other' category."
   ]
  },
  {
   "cell_type": "code",
   "execution_count": 36,
   "metadata": {},
   "outputs": [
    {
     "name": "stderr",
     "output_type": "stream",
     "text": [
      "/opt/conda/lib/python3.6/site-packages/ipykernel_launcher.py:3: SettingWithCopyWarning: \n",
      "A value is trying to be set on a copy of a slice from a DataFrame\n",
      "\n",
      "See the caveats in the documentation: http://pandas.pydata.org/pandas-docs/stable/indexing.html#indexing-view-versus-copy\n",
      "  This is separate from the ipykernel package so we can avoid doing imports until\n",
      "/opt/conda/lib/python3.6/site-packages/ipykernel_launcher.py:4: SettingWithCopyWarning: \n",
      "A value is trying to be set on a copy of a slice from a DataFrame\n",
      "\n",
      "See the caveats in the documentation: http://pandas.pydata.org/pandas-docs/stable/indexing.html#indexing-view-versus-copy\n",
      "  after removing the cwd from sys.path.\n",
      "/opt/conda/lib/python3.6/site-packages/ipykernel_launcher.py:5: SettingWithCopyWarning: \n",
      "A value is trying to be set on a copy of a slice from a DataFrame\n",
      "\n",
      "See the caveats in the documentation: http://pandas.pydata.org/pandas-docs/stable/indexing.html#indexing-view-versus-copy\n",
      "  \"\"\"\n",
      "/opt/conda/lib/python3.6/site-packages/ipykernel_launcher.py:6: SettingWithCopyWarning: \n",
      "A value is trying to be set on a copy of a slice from a DataFrame\n",
      "\n",
      "See the caveats in the documentation: http://pandas.pydata.org/pandas-docs/stable/indexing.html#indexing-view-versus-copy\n",
      "  \n",
      "/opt/conda/lib/python3.6/site-packages/ipykernel_launcher.py:7: SettingWithCopyWarning: \n",
      "A value is trying to be set on a copy of a slice from a DataFrame\n",
      "\n",
      "See the caveats in the documentation: http://pandas.pydata.org/pandas-docs/stable/indexing.html#indexing-view-versus-copy\n",
      "  import sys\n",
      "/opt/conda/lib/python3.6/site-packages/ipykernel_launcher.py:8: SettingWithCopyWarning: \n",
      "A value is trying to be set on a copy of a slice from a DataFrame\n",
      "\n",
      "See the caveats in the documentation: http://pandas.pydata.org/pandas-docs/stable/indexing.html#indexing-view-versus-copy\n",
      "  \n",
      "/opt/conda/lib/python3.6/site-packages/ipykernel_launcher.py:9: SettingWithCopyWarning: \n",
      "A value is trying to be set on a copy of a slice from a DataFrame\n",
      "\n",
      "See the caveats in the documentation: http://pandas.pydata.org/pandas-docs/stable/indexing.html#indexing-view-versus-copy\n",
      "  if __name__ == '__main__':\n",
      "/opt/conda/lib/python3.6/site-packages/ipykernel_launcher.py:10: SettingWithCopyWarning: \n",
      "A value is trying to be set on a copy of a slice from a DataFrame\n",
      "\n",
      "See the caveats in the documentation: http://pandas.pydata.org/pandas-docs/stable/indexing.html#indexing-view-versus-copy\n",
      "  # Remove the CWD from sys.path while we load stuff.\n",
      "/opt/conda/lib/python3.6/site-packages/ipykernel_launcher.py:11: SettingWithCopyWarning: \n",
      "A value is trying to be set on a copy of a slice from a DataFrame\n",
      "\n",
      "See the caveats in the documentation: http://pandas.pydata.org/pandas-docs/stable/indexing.html#indexing-view-versus-copy\n",
      "  # This is added back by InteractiveShellApp.init_path()\n"
     ]
    }
   ],
   "source": [
    "data['PW_SOURCE_OTHER_grouped'] = np.nan\n",
    "data['PW_SOURCE_OTHER'] = data['PW_SOURCE_OTHER'].str.upper()\n",
    "data.PW_SOURCE_OTHER_grouped[data['PW_SOURCE_OTHER'].str.contains('CBA','COLLECTIVE BARGAINING AGREEMENT')] = 'CBA'\n",
    "data.PW_SOURCE_OTHER_grouped[data['PW_SOURCE_OTHER'].str.contains('RADFORD GLOBAL')] = 'RADFORD GLOBAL SURVEY'\n",
    "data.PW_SOURCE_OTHER_grouped[data['PW_SOURCE_OTHER'].str.contains('BUREAU OF LABOR STATISTICS', 'OCCUPATIONAL EMPLOYMENT STATISTICS' )] = 'OES'\n",
    "data.PW_SOURCE_OTHER_grouped[data['PW_SOURCE_OTHER'].str.contains('OES')] = 'OES'\n",
    "data.PW_SOURCE_OTHER_grouped[data['PW_SOURCE_OTHER'].str.contains('OFLC' )] = 'OFLC'\n",
    "data.PW_SOURCE_OTHER_grouped[data['PW_SOURCE_OTHER'].str.contains('WATSON')] = 'WATSON SURVEY'\n",
    "data.PW_SOURCE_OTHER_grouped[data['PW_SOURCE_OTHER'].str.contains('MERCER')] = 'MERCER BENCHMARK'\n",
    "data.PW_SOURCE_OTHER_grouped[data['PW_SOURCE_OTHER'].str.contains('COMPENSATION SURVEY')] = 'COMPENSATION SURVEY'\n",
    "data.PW_SOURCE_OTHER_grouped[data['PW_SOURCE_OTHER'].str.contains('SCHOOL', 'UNIVERSITY')] = 'EDUCATIONAL'\n"
   ]
  },
  {
   "cell_type": "code",
   "execution_count": 37,
   "metadata": {},
   "outputs": [],
   "source": [
    "data['PW_SOURCE_OTHER_grouped'].fillna('OTHER', inplace=True)"
   ]
  },
  {
   "cell_type": "code",
   "execution_count": 38,
   "metadata": {},
   "outputs": [
    {
     "data": {
      "text/plain": [
       "OFLC                     489048\n",
       "RADFORD GLOBAL SURVEY     11723\n",
       "OTHER                     11182\n",
       "WATSON SURVEY              4218\n",
       "MERCER BENCHMARK           1416\n",
       "COMPENSATION SURVEY         481\n",
       "OES                         358\n",
       "CBA                         126\n",
       "EDUCATIONAL                  32\n",
       "Name: PW_SOURCE_OTHER_grouped, dtype: int64"
      ]
     },
     "execution_count": 38,
     "metadata": {},
     "output_type": "execute_result"
    }
   ],
   "source": [
    "data['PW_SOURCE_OTHER_grouped'].value_counts()"
   ]
  },
  {
   "cell_type": "markdown",
   "metadata": {},
   "source": [
    "'PW_Source' and PW_SOURCE_OTHER features are combined into one feature based on 'Other' category."
   ]
  },
  {
   "cell_type": "code",
   "execution_count": 39,
   "metadata": {},
   "outputs": [],
   "source": [
    "data.loc[(data.PW_SOURCE =='Other'), 'PW_SOURCE']=data['PW_SOURCE_OTHER_grouped']\n",
    "data.drop(['PW_SOURCE_OTHER_grouped', 'PW_SOURCE_OTHER'], axis=1, inplace=True)"
   ]
  },
  {
   "cell_type": "code",
   "execution_count": 40,
   "metadata": {},
   "outputs": [
    {
     "data": {
      "text/plain": [
       "OES                      418297\n",
       "OFLC                      73710\n",
       "RADFORD GLOBAL SURVEY     11693\n",
       "OTHER                      5525\n",
       "WATSON SURVEY              4198\n",
       "CBA                        3234\n",
       "MERCER BENCHMARK           1406\n",
       "COMPENSATION SURVEY         480\n",
       "EDUCATIONAL                  22\n",
       "DBA                          11\n",
       "SCA                           8\n",
       "Name: PW_SOURCE, dtype: int64"
      ]
     },
     "execution_count": 40,
     "metadata": {},
     "output_type": "execute_result"
    }
   ],
   "source": [
    "data['PW_SOURCE'].value_counts()"
   ]
  },
  {
   "cell_type": "code",
   "execution_count": 41,
   "metadata": {},
   "outputs": [
    {
     "data": {
      "text/plain": [
       "Index(['CASE_NO', 'CASE_STATUS', 'EMPLOYER_COUNTRY', 'EMPLOYER_STATE',\n",
       "       'FULL_TIME_POSITION', 'H-1B_DEPENDENT', 'NAICS_CODE', 'PREVAILING_WAGE',\n",
       "       'PW_SOURCE', 'PW_SOURCE_YEAR', 'PW_UNIT_OF_PAY', 'SOC_NAME',\n",
       "       'TOTAL_WORKERS', 'VISA_CLASS', 'WAGE_RATE_OF_PAY_FROM',\n",
       "       'WAGE_RATE_OF_PAY_TO', 'WAGE_UNIT_OF_PAY', 'WORKSITE_STATE',\n",
       "       'H+AC0-1B_DEPENDENT_missing_flag', 'NEW_EMPLOYER', 'Time_Elapsed',\n",
       "       'WAGE_RATE_diff'],\n",
       "      dtype='object')"
      ]
     },
     "execution_count": 41,
     "metadata": {},
     "output_type": "execute_result"
    }
   ],
   "source": [
    "data.columns"
   ]
  },
  {
   "cell_type": "code",
   "execution_count": 42,
   "metadata": {},
   "outputs": [
    {
     "data": {
      "text/plain": [
       "UNITED STATES OF AMERICA    518574\n",
       "CANADA                           7\n",
       "AUSTRALIA                        2\n",
       "CHINA                            1\n",
       "Name: EMPLOYER_COUNTRY, dtype: int64"
      ]
     },
     "execution_count": 42,
     "metadata": {},
     "output_type": "execute_result"
    }
   ],
   "source": [
    "data['EMPLOYER_COUNTRY'].value_counts()"
   ]
  },
  {
   "cell_type": "markdown",
   "metadata": {},
   "source": [
    "Dropping the feature EMPLOYER_COUNTRY as it is more biased towards majority class UNITED STATES OF AMERICA"
   ]
  },
  {
   "cell_type": "code",
   "execution_count": 43,
   "metadata": {},
   "outputs": [],
   "source": [
    "data.drop('EMPLOYER_COUNTRY', axis=1, inplace=True)"
   ]
  },
  {
   "cell_type": "code",
   "execution_count": 44,
   "metadata": {},
   "outputs": [
    {
     "data": {
      "text/plain": [
       "2016.0    421605\n",
       "2017.0     74232\n",
       "2015.0     13479\n",
       "2014.0      6300\n",
       "2013.0      2618\n",
       "2011.0       204\n",
       "2012.0        80\n",
       "2009.0        21\n",
       "2010.0        14\n",
       "2008.0        13\n",
       "2007.0        12\n",
       "2001.0         3\n",
       "2000.0         1\n",
       "1998.0         1\n",
       "1.0            1\n",
       "Name: PW_SOURCE_YEAR, dtype: int64"
      ]
     },
     "execution_count": 44,
     "metadata": {},
     "output_type": "execute_result"
    }
   ],
   "source": [
    "data['PW_SOURCE_YEAR'].value_counts()"
   ]
  },
  {
   "cell_type": "code",
   "execution_count": 45,
   "metadata": {},
   "outputs": [
    {
     "data": {
      "text/plain": [
       "CASE_NO                              int64\n",
       "CASE_STATUS                         object\n",
       "EMPLOYER_STATE                      object\n",
       "FULL_TIME_POSITION                  object\n",
       "H-1B_DEPENDENT                      object\n",
       "NAICS_CODE                         float64\n",
       "PREVAILING_WAGE                    float64\n",
       "PW_SOURCE                           object\n",
       "PW_SOURCE_YEAR                     float64\n",
       "PW_UNIT_OF_PAY                      object\n",
       "SOC_NAME                            object\n",
       "TOTAL_WORKERS                        int64\n",
       "VISA_CLASS                          object\n",
       "WAGE_RATE_OF_PAY_FROM              float64\n",
       "WAGE_RATE_OF_PAY_TO                float64\n",
       "WAGE_UNIT_OF_PAY                    object\n",
       "WORKSITE_STATE                      object\n",
       "H+AC0-1B_DEPENDENT_missing_flag      int64\n",
       "NEW_EMPLOYER                       float64\n",
       "Time_Elapsed                       float64\n",
       "WAGE_RATE_diff                     float64\n",
       "dtype: object"
      ]
     },
     "execution_count": 45,
     "metadata": {},
     "output_type": "execute_result"
    }
   ],
   "source": [
    "data.dtypes"
   ]
  },
  {
   "cell_type": "code",
   "execution_count": 46,
   "metadata": {},
   "outputs": [],
   "source": [
    "df1=data.copy()"
   ]
  },
  {
   "cell_type": "markdown",
   "metadata": {},
   "source": [
    "![](http://)Converting the datatypes to category for all the categorical features."
   ]
  },
  {
   "cell_type": "code",
   "execution_count": 47,
   "metadata": {},
   "outputs": [],
   "source": [
    "data[['CASE_STATUS','EMPLOYER_STATE','H-1B_DEPENDENT','NAICS_CODE','PW_SOURCE',\n",
    "      'FULL_TIME_POSITION','PW_SOURCE_YEAR','PW_UNIT_OF_PAY',\n",
    "      'SOC_NAME','VISA_CLASS', 'NEW_EMPLOYER','WAGE_UNIT_OF_PAY','WORKSITE_STATE', \n",
    "      'H+AC0-1B_DEPENDENT_missing_flag']] = data[['CASE_STATUS','EMPLOYER_STATE','H-1B_DEPENDENT','NAICS_CODE','PW_SOURCE',\n",
    "                                                  'FULL_TIME_POSITION','PW_SOURCE_YEAR','PW_UNIT_OF_PAY',\n",
    "                                                  'SOC_NAME','VISA_CLASS', 'NEW_EMPLOYER','WAGE_UNIT_OF_PAY','WORKSITE_STATE', \n",
    "                                                  'H+AC0-1B_DEPENDENT_missing_flag']].apply(lambda x: x.astype('category'))\n"
   ]
  },
  {
   "cell_type": "code",
   "execution_count": 48,
   "metadata": {},
   "outputs": [
    {
     "data": {
      "text/plain": [
       "CERTIFIED             367259\n",
       "CERTIFIEDWITHDRAWN     33771\n",
       "WITHDRAWN              12891\n",
       "DENIED                   147\n",
       "Name: CASE_STATUS, dtype: int64"
      ]
     },
     "execution_count": 48,
     "metadata": {},
     "output_type": "execute_result"
    }
   ],
   "source": [
    "data['CASE_STATUS'].value_counts()"
   ]
  },
  {
   "cell_type": "code",
   "execution_count": 49,
   "metadata": {},
   "outputs": [],
   "source": [
    "case_no_test=data['CASE_NO'][data['CASE_STATUS'] == 'nan']\n",
    "data.drop('CASE_NO', axis=1, inplace=True)"
   ]
  },
  {
   "cell_type": "code",
   "execution_count": 50,
   "metadata": {},
   "outputs": [],
   "source": [
    "data['CASE_STATUS']=data['CASE_STATUS'].astype(str)"
   ]
  },
  {
   "cell_type": "code",
   "execution_count": 51,
   "metadata": {},
   "outputs": [
    {
     "data": {
      "text/plain": [
       "CERTIFIED             367259\n",
       "nan                   104516\n",
       "CERTIFIEDWITHDRAWN     33771\n",
       "WITHDRAWN              12891\n",
       "DENIED                   147\n",
       "Name: CASE_STATUS, dtype: int64"
      ]
     },
     "execution_count": 51,
     "metadata": {},
     "output_type": "execute_result"
    }
   ],
   "source": [
    "data['CASE_STATUS'].value_counts()"
   ]
  },
  {
   "cell_type": "code",
   "execution_count": 52,
   "metadata": {},
   "outputs": [
    {
     "name": "stdout",
     "output_type": "stream",
     "text": [
      "train shape(414068, 19)\n",
      "test shape(104516, 19)\n"
     ]
    },
    {
     "name": "stderr",
     "output_type": "stream",
     "text": [
      "/opt/conda/lib/python3.6/site-packages/pandas/core/frame.py:3697: SettingWithCopyWarning: \n",
      "A value is trying to be set on a copy of a slice from a DataFrame\n",
      "\n",
      "See the caveats in the documentation: http://pandas.pydata.org/pandas-docs/stable/indexing.html#indexing-view-versus-copy\n",
      "  errors=errors)\n"
     ]
    }
   ],
   "source": [
    "#split into original test and train\n",
    "#data['CASE_STATUS'].fillna(2, inplace = True)\n",
    "test_df = data[data['CASE_STATUS'] == 'nan']\n",
    "train_df = data[data['CASE_STATUS'] != 'nan']\n",
    "test_df.drop(['CASE_STATUS'], axis = 1, inplace = True)\n",
    "y_train = train_df['CASE_STATUS']\n",
    "train_df.drop(['CASE_STATUS'], axis = 1, inplace = True)\n",
    "print(\"train shape\" + str(train_df.shape))\n",
    "print(\"test shape\"+str(test_df.shape))"
   ]
  },
  {
   "cell_type": "code",
   "execution_count": 53,
   "metadata": {},
   "outputs": [
    {
     "data": {
      "text/plain": [
       "CERTIFIED             367259\n",
       "CERTIFIEDWITHDRAWN     33771\n",
       "WITHDRAWN              12891\n",
       "DENIED                   147\n",
       "Name: CASE_STATUS, dtype: int64"
      ]
     },
     "execution_count": 53,
     "metadata": {},
     "output_type": "execute_result"
    }
   ],
   "source": [
    "y_train.value_counts()"
   ]
  },
  {
   "cell_type": "code",
   "execution_count": 54,
   "metadata": {},
   "outputs": [],
   "source": [
    "y_train=y_train.astype('category')\n"
   ]
  },
  {
   "cell_type": "code",
   "execution_count": 55,
   "metadata": {},
   "outputs": [
    {
     "name": "stdout",
     "output_type": "stream",
     "text": [
      "Requirement already satisfied: catboost in /opt/conda/lib/python3.6/site-packages (0.14.2)\r\n",
      "Requirement already satisfied: graphviz in /opt/conda/lib/python3.6/site-packages (from catboost) (0.8.4)\r\n",
      "Requirement already satisfied: pandas>=0.19.1 in /opt/conda/lib/python3.6/site-packages (from catboost) (0.23.4)\r\n",
      "Requirement already satisfied: six in /opt/conda/lib/python3.6/site-packages (from catboost) (1.12.0)\r\n",
      "Requirement already satisfied: numpy>=1.11.1 in /opt/conda/lib/python3.6/site-packages (from catboost) (1.16.3)\r\n",
      "Requirement already satisfied: enum34 in /opt/conda/lib/python3.6/site-packages (from catboost) (1.1.6)\r\n",
      "Requirement already satisfied: pytz>=2011k in /opt/conda/lib/python3.6/site-packages (from pandas>=0.19.1->catboost) (2018.4)\r\n",
      "Requirement already satisfied: python-dateutil>=2.5.0 in /opt/conda/lib/python3.6/site-packages (from pandas>=0.19.1->catboost) (2.6.0)\r\n"
     ]
    }
   ],
   "source": [
    "!pip install catboost"
   ]
  },
  {
   "cell_type": "code",
   "execution_count": 56,
   "metadata": {},
   "outputs": [],
   "source": [
    "categorical = ['EMPLOYER_STATE','H-1B_DEPENDENT','NAICS_CODE','PW_SOURCE',\n",
    "      'FULL_TIME_POSITION','PW_SOURCE_YEAR','PW_UNIT_OF_PAY',\n",
    "      'SOC_NAME','VISA_CLASS', 'NEW_EMPLOYER','WAGE_UNIT_OF_PAY','WORKSITE_STATE', \n",
    "      'H+AC0-1B_DEPENDENT_missing_flag']"
   ]
  },
  {
   "cell_type": "code",
   "execution_count": 57,
   "metadata": {},
   "outputs": [],
   "source": [
    "def column_index(df, query_cols):\n",
    "    cols = df.columns.values\n",
    "    sidx = np.argsort(cols)\n",
    "    return sidx[np.searchsorted(cols, query_cols, sorter=sidx)]\n",
    "categorical_features_indices = column_index(train_df, categorical)"
   ]
  },
  {
   "cell_type": "code",
   "execution_count": 58,
   "metadata": {},
   "outputs": [
    {
     "name": "stdout",
     "output_type": "stream",
     "text": [
      "(331254, 19)\n",
      "(331254,)\n",
      "(82814, 19)\n",
      "(82814,)\n"
     ]
    }
   ],
   "source": [
    "from sklearn.model_selection import train_test_split\n",
    "\n",
    "x_train, x_valid, y_label, y_valid = train_test_split(train_df, y_train, test_size = 0.2, stratify=y_train,random_state = 0)\n",
    "\n",
    "# checking the shapes\n",
    "print(x_train.shape)\n",
    "print(y_label.shape)\n",
    "print(x_valid.shape)\n",
    "print(y_valid.shape)"
   ]
  },
  {
   "cell_type": "code",
   "execution_count": 59,
   "metadata": {},
   "outputs": [],
   "source": [
    "from sklearn.model_selection import KFold, StratifiedKFold, GridSearchCV, cross_val_score, cross_val_predict, validation_curve \n",
    "from catboost import CatBoostClassifier"
   ]
  },
  {
   "cell_type": "markdown",
   "metadata": {},
   "source": [
    "Building the Model with CatBoostClassifier as it can handle categorical variables very well."
   ]
  },
  {
   "cell_type": "code",
   "execution_count": 60,
   "metadata": {},
   "outputs": [
    {
     "name": "stdout",
     "output_type": "stream",
     "text": [
      "0:\tlearn: 0.9879005\ttest: 0.9886251\tbest: 0.9886251 (0)\ttotal: 17.2ms\tremaining: 3.41s\n",
      "10:\tlearn: 0.9879126\ttest: 0.9886855\tbest: 0.9886855 (1)\ttotal: 171ms\tremaining: 2.93s\n",
      "20:\tlearn: 0.9880001\ttest: 0.9887338\tbest: 0.9887579 (19)\ttotal: 320ms\tremaining: 2.72s\n",
      "30:\tlearn: 0.9880605\ttest: 0.9885164\tbest: 0.9887579 (19)\ttotal: 464ms\tremaining: 2.53s\n",
      "40:\tlearn: 0.9880847\ttest: 0.9885527\tbest: 0.9887579 (19)\ttotal: 606ms\tremaining: 2.35s\n",
      "50:\tlearn: 0.9881028\ttest: 0.9885406\tbest: 0.9887579 (19)\ttotal: 748ms\tremaining: 2.18s\n",
      "60:\tlearn: 0.9881088\ttest: 0.9885768\tbest: 0.9887579 (19)\ttotal: 891ms\tremaining: 2.03s\n",
      "70:\tlearn: 0.9881360\ttest: 0.9886130\tbest: 0.9887579 (19)\ttotal: 1.03s\tremaining: 1.88s\n",
      "80:\tlearn: 0.9881571\ttest: 0.9887459\tbest: 0.9887700 (78)\ttotal: 1.18s\tremaining: 1.73s\n",
      "90:\tlearn: 0.9881873\ttest: 0.9888304\tbest: 0.9888304 (86)\ttotal: 1.32s\tremaining: 1.58s\n",
      "100:\tlearn: 0.9882054\ttest: 0.9888183\tbest: 0.9888545 (91)\ttotal: 1.46s\tremaining: 1.43s\n",
      "110:\tlearn: 0.9882507\ttest: 0.9887942\tbest: 0.9888545 (91)\ttotal: 1.6s\tremaining: 1.28s\n",
      "120:\tlearn: 0.9882326\ttest: 0.9888666\tbest: 0.9888787 (117)\ttotal: 1.74s\tremaining: 1.14s\n",
      "130:\tlearn: 0.9882658\ttest: 0.9889028\tbest: 0.9889028 (123)\ttotal: 1.89s\tremaining: 994ms\n",
      "140:\tlearn: 0.9882839\ttest: 0.9889753\tbest: 0.9889753 (140)\ttotal: 2.03s\tremaining: 850ms\n",
      "150:\tlearn: 0.9882869\ttest: 0.9889753\tbest: 0.9889753 (140)\ttotal: 2.17s\tremaining: 704ms\n",
      "160:\tlearn: 0.9882869\ttest: 0.9889511\tbest: 0.9889753 (140)\ttotal: 2.31s\tremaining: 561ms\n",
      "170:\tlearn: 0.9883232\ttest: 0.9889874\tbest: 0.9889874 (169)\ttotal: 2.46s\tremaining: 417ms\n",
      "180:\tlearn: 0.9883322\ttest: 0.9889632\tbest: 0.9889994 (172)\ttotal: 2.6s\tremaining: 273ms\n",
      "190:\tlearn: 0.9883775\ttest: 0.9889632\tbest: 0.9889994 (172)\ttotal: 2.75s\tremaining: 129ms\n",
      "199:\tlearn: 0.9884016\ttest: 0.9889632\tbest: 0.9889994 (172)\ttotal: 2.88s\tremaining: 0us\n",
      "bestTest = 0.9889994445\n",
      "bestIteration = 172\n",
      "Shrink model to first 173 iterations.\n"
     ]
    }
   ],
   "source": [
    "model = CatBoostClassifier(iterations=200,learning_rate=0.2,\n",
    "                           loss_function='MultiClass',\n",
    "                           eval_metric='Accuracy',\n",
    "                           task_type='GPU')\n",
    "  \n",
    "model.fit(x_train, y_label,\n",
    "          cat_features=categorical_features_indices,\n",
    "          eval_set=(x_valid, y_valid),\n",
    "          verbose=10);"
   ]
  },
  {
   "cell_type": "code",
   "execution_count": 61,
   "metadata": {},
   "outputs": [],
   "source": [
    "y_pred=model.predict(x_valid)"
   ]
  },
  {
   "cell_type": "markdown",
   "metadata": {},
   "source": [
    "Checking the Classification report"
   ]
  },
  {
   "cell_type": "code",
   "execution_count": 62,
   "metadata": {},
   "outputs": [
    {
     "name": "stdout",
     "output_type": "stream",
     "text": [
      "[[73382    70     0     0]\n",
      " [  135  6615     0     4]\n",
      " [   30     0     0     0]\n",
      " [  333   339     0  1906]]\n"
     ]
    },
    {
     "name": "stderr",
     "output_type": "stream",
     "text": [
      "/opt/conda/lib/python3.6/site-packages/sklearn/metrics/classification.py:1143: UndefinedMetricWarning: Precision and F-score are ill-defined and being set to 0.0 in labels with no predicted samples.\n",
      "  'precision', 'predicted', average, warn_for)\n",
      "/opt/conda/lib/python3.6/site-packages/sklearn/metrics/classification.py:1143: UndefinedMetricWarning: Precision and F-score are ill-defined and being set to 0.0 in labels with no predicted samples.\n",
      "  'precision', 'predicted', average, warn_for)\n"
     ]
    },
    {
     "name": "stdout",
     "output_type": "stream",
     "text": [
      "                    precision    recall  f1-score   support\n",
      "\n",
      "         CERTIFIED       0.99      1.00      1.00     73452\n",
      "CERTIFIEDWITHDRAWN       0.94      0.98      0.96      6754\n",
      "            DENIED       0.00      0.00      0.00        30\n",
      "         WITHDRAWN       1.00      0.74      0.85      2578\n",
      "\n",
      "         micro avg       0.99      0.99      0.99     82814\n",
      "         macro avg       0.73      0.68      0.70     82814\n",
      "      weighted avg       0.99      0.99      0.99     82814\n",
      "\n"
     ]
    },
    {
     "name": "stderr",
     "output_type": "stream",
     "text": [
      "/opt/conda/lib/python3.6/site-packages/sklearn/metrics/classification.py:1143: UndefinedMetricWarning: Precision and F-score are ill-defined and being set to 0.0 in labels with no predicted samples.\n",
      "  'precision', 'predicted', average, warn_for)\n"
     ]
    }
   ],
   "source": [
    "from sklearn.metrics import confusion_matrix, classification_report\n",
    "print(confusion_matrix(y_valid, y_pred))\n",
    "print(classification_report(y_valid, y_pred))"
   ]
  },
  {
   "cell_type": "markdown",
   "metadata": {},
   "source": [
    "Ploting the feature importance graph"
   ]
  },
  {
   "cell_type": "code",
   "execution_count": 63,
   "metadata": {},
   "outputs": [
    {
     "data": {
      "image/png": "[encoded data removed]",
      "text/plain": [
       "<Figure size 720x504 with 1 Axes>"
      ]
     },
     "metadata": {},
     "output_type": "display_data"
    }
   ],
   "source": [
    "import matplotlib.pyplot as plt\n",
    "fea_imp = pd.DataFrame({'imp': model.feature_importances_, 'col': train_df.columns})\n",
    "fea_imp = fea_imp.sort_values(['imp', 'col'], ascending=True)\n",
    "fea_imp.plot(kind='barh', x='col', y='imp', figsize=(10, 7), legend=None)\n",
    "plt.title('CatBoost - Feature Importance')\n",
    "plt.ylabel('Features')\n",
    "plt.xlabel('Importance');\n"
   ]
  },
  {
   "cell_type": "code",
   "execution_count": 64,
   "metadata": {},
   "outputs": [
    {
     "data": {
      "text/plain": [
       "<bound method NDFrame.head of                                  importance\n",
       "Time_Elapsed                      66.366391\n",
       "PREVAILING_WAGE                    5.893847\n",
       "WAGE_RATE_OF_PAY_FROM              5.881838\n",
       "WAGE_RATE_diff                     4.598662\n",
       "SOC_NAME                           3.757639\n",
       "NAICS_CODE                         3.516480\n",
       "EMPLOYER_STATE                     2.651052\n",
       "WORKSITE_STATE                     1.801212\n",
       "WAGE_RATE_OF_PAY_TO                1.770482\n",
       "TOTAL_WORKERS                      1.478795\n",
       "PW_SOURCE                          1.273513\n",
       "PW_SOURCE_YEAR                     0.340435\n",
       "H-1B_DEPENDENT                     0.267593\n",
       "WAGE_UNIT_OF_PAY                   0.193066\n",
       "VISA_CLASS                         0.080631\n",
       "PW_UNIT_OF_PAY                     0.054760\n",
       "FULL_TIME_POSITION                 0.053177\n",
       "NEW_EMPLOYER                       0.020427\n",
       "H+AC0-1B_DEPENDENT_missing_flag    0.000000>"
      ]
     },
     "execution_count": 64,
     "metadata": {},
     "output_type": "execute_result"
    }
   ],
   "source": [
    "import pandas as pd\n",
    "feature_importances = pd.DataFrame(model.feature_importances_,\n",
    "                                   index = train_df.columns,\n",
    "                                    columns=['importance']).sort_values('importance', \n",
    "                                                                        ascending=False)\n",
    "feature_importances.head"
   ]
  },
  {
   "cell_type": "markdown",
   "metadata": {},
   "source": [
    "Prediction on the test set."
   ]
  },
  {
   "cell_type": "code",
   "execution_count": 65,
   "metadata": {},
   "outputs": [],
   "source": [
    "k=model.predict(test_df)"
   ]
  },
  {
   "cell_type": "code",
   "execution_count": 66,
   "metadata": {},
   "outputs": [
    {
     "data": {
      "text/html": [
       "<div>\n",
       "<style scoped>\n",
       "    .dataframe tbody tr th:only-of-type {\n",
       "        vertical-align: middle;\n",
       "    }\n",
       "\n",
       "    .dataframe tbody tr th {\n",
       "        vertical-align: top;\n",
       "    }\n",
       "\n",
       "    .dataframe thead th {\n",
       "        text-align: right;\n",
       "    }\n",
       "</style>\n",
       "<table border=\"1\" class=\"dataframe\">\n",
       "  <thead>\n",
       "    <tr style=\"text-align: right;\">\n",
       "      <th></th>\n",
       "      <th>CASE_NO</th>\n",
       "      <th>CASE_STATUS</th>\n",
       "    </tr>\n",
       "  </thead>\n",
       "  <tbody>\n",
       "    <tr>\n",
       "      <th>0</th>\n",
       "      <td>2436697</td>\n",
       "      <td>CERTIFIED</td>\n",
       "    </tr>\n",
       "    <tr>\n",
       "      <th>1</th>\n",
       "      <td>2518345</td>\n",
       "      <td>CERTIFIED</td>\n",
       "    </tr>\n",
       "    <tr>\n",
       "      <th>2</th>\n",
       "      <td>6414652</td>\n",
       "      <td>CERTIFIED</td>\n",
       "    </tr>\n",
       "    <tr>\n",
       "      <th>3</th>\n",
       "      <td>2785608</td>\n",
       "      <td>CERTIFIED</td>\n",
       "    </tr>\n",
       "    <tr>\n",
       "      <th>4</th>\n",
       "      <td>7037786</td>\n",
       "      <td>CERTIFIED</td>\n",
       "    </tr>\n",
       "  </tbody>\n",
       "</table>\n",
       "</div>"
      ],
      "text/plain": [
       "   CASE_NO CASE_STATUS\n",
       "0  2436697   CERTIFIED\n",
       "1  2518345   CERTIFIED\n",
       "2  6414652   CERTIFIED\n",
       "3  2785608   CERTIFIED\n",
       "4  7037786   CERTIFIED"
      ]
     },
     "execution_count": 66,
     "metadata": {},
     "output_type": "execute_result"
    }
   ],
   "source": [
    "kpd=pd.DataFrame(k, columns=['CASE_STATUS'])\n",
    "kpd1=pd.DataFrame(test['CASE_NO'], columns=['CASE_NO'])\n",
    "sub = pd.concat([kpd1, kpd], axis = 1, ignore_index=True)\n",
    "sub.columns=['CASE_NO', 'CASE_STATUS']\n",
    "sub.head()"
   ]
  },
  {
   "cell_type": "code",
   "execution_count": 67,
   "metadata": {},
   "outputs": [],
   "source": [
    "sub.to_csv(\"submission_ZS-ML-3-deekshaAgg.csv\",index=False)"
   ]
  },
  {
   "cell_type": "code",
   "execution_count": 68,
   "metadata": {},
   "outputs": [],
   "source": []
  }
 ],
 "metadata": {
  "kernelspec": {
   "display_name": "Python 3",
   "language": "python",
   "name": "python3"
  },
  "language_info": {
   "codemirror_mode": {
    "name": "ipython",
    "version": 3
   },
   "file_extension": ".py",
   "mimetype": "text/x-python",
   "name": "python",
   "nbconvert_exporter": "python",
   "pygments_lexer": "ipython3",
   "version": "3.6.4"
  }
 },
 "nbformat": 4,
 "nbformat_minor": 1
}
